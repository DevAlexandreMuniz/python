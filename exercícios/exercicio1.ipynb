{
 "cells": [
  {
   "cell_type": "code",
   "execution_count": null,
   "id": "9328520a",
   "metadata": {
    "scrolled": false
   },
   "outputs": [],
   "source": [
    "\n",
    "import pyautogui\n",
    "import time\n",
    "import pyperclip\n",
    "\n",
    "pyautogui.PAUSE = 1\n",
    "\n",
    "#Entrar no sistema (neste exemplo, entrar no link)\n",
    "pyautogui.press('winleft')\n",
    "pyautogui.write('Chrome')\n",
    "pyautogui.press('enter')\n",
    "pyperclip.copy('https://drive.google.com/drive/folders/149xknr9JvrlEnhNWO49zPcw0PW5icxga?usp=sharing')\n",
    "time.sleep(3)\n",
    "pyautogui.hotkey('ctrl','v')\n",
    "pyautogui.press('enter')\n",
    "\n",
    "time.sleep(5)\n",
    "\n",
    "#navegar até o local do relatório(neste exemplo, entrar na pasta exportar)\n",
    "pyautogui.click(x=371, y=279, clicks=2)\n",
    "time.sleep(2)\n",
    "\n",
    "#Fazer dowload do relatório\n",
    "pyautogui.click(x=371, y=279)\n",
    "pyautogui.click(x=1158, y=163)\n",
    "pyautogui.click(x=968, y=601)\n",
    "time.sleep(7)"
   ]
  },
  {
   "cell_type": "code",
   "execution_count": null,
   "id": "9976e4c7",
   "metadata": {
    "scrolled": true
   },
   "outputs": [],
   "source": [
    "#calcular os indicadores\n",
    "import pandas as pd\n",
    "\n",
    "tabela = pd.read_excel(r'/home/monkeydl/Downloads/Vendas - Dez.xlsx')\n",
    "display(tabela)\n",
    "faturamento = tabela['Valor Final'].sum()\n",
    "quantidade = tabela['Quantidade'].sum()"
   ]
  },
  {
   "cell_type": "code",
   "execution_count": null,
   "id": "ef41dbe4",
   "metadata": {},
   "outputs": [],
   "source": [
    "#entrar no e-mail\n",
    "pyautogui.hotkey('ctrl','t')\n",
    "pyperclip.copy('https://mail.google.com/mail/u/0/#inbox')\n",
    "pyautogui.hotkey('ctrl','v')\n",
    "pyautogui.press('enter')\n",
    "\n",
    "time.sleep(6)\n",
    "\n",
    "#enviar resultado por e-mail\n",
    "pyautogui.click(x=87, y=175)\n",
    "time.sleep(1)\n",
    "pyautogui.write('pythonimpressionador+diretoria@gmail.com')\n",
    "pyautogui.press('tab')\n",
    "\n",
    "pyautogui.press('tab')#pula para o campo de assunto\n",
    "pyperclip.copy('relatório de vendas')\n",
    "pyautogui.hotkey(\"ctrl\", \"v\")\n",
    "pyautogui.press('tab')#pula para o corpo do e-mail\n",
    "\n",
    "texto = f'''Prezados, bom dia\n",
    "\n",
    "O faturamento de ontem foi de: R${faturamento:,.2f}\n",
    "A quantidade de produtos foi de: {quantidade:,}\n",
    "\n",
    "Atenciosamente\n",
    "Alexandre Ribeiro Muniz'''\n",
    "\n",
    "pyperclip.copy(texto)\n",
    "pyautogui.hotkey('ctrl','v')\n",
    "\n",
    "pyautogui.hotkey('ctrl','enter')#clicar no botão enviar"
   ]
  },
  {
   "cell_type": "code",
   "execution_count": null,
   "id": "0fa756ef",
   "metadata": {},
   "outputs": [],
   "source": [
    "#codigo para descobrir a posição de um item que queira clicar\n",
    "time.sleep(5)\n",
    "pyautogui.position()"
   ]
  },
  {
   "cell_type": "code",
   "execution_count": null,
   "id": "d05e767c",
   "metadata": {},
   "outputs": [],
   "source": []
  }
 ],
 "metadata": {
  "kernelspec": {
   "display_name": "Python 3 (ipykernel)",
   "language": "python",
   "name": "python3"
  },
  "language_info": {
   "codemirror_mode": {
    "name": "ipython",
    "version": 3
   },
   "file_extension": ".py",
   "mimetype": "text/x-python",
   "name": "python",
   "nbconvert_exporter": "python",
   "pygments_lexer": "ipython3",
   "version": "3.8.10"
  }
 },
 "nbformat": 4,
 "nbformat_minor": 5
}
